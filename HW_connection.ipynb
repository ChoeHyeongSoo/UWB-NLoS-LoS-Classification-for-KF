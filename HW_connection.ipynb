{
 "cells": [
  {
   "cell_type": "code",
   "execution_count": null,
   "metadata": {},
   "outputs": [],
   "source": [
    "import torch\n",
    "import torch.nn as nn\n",
    "import torch.optim as optim\n",
    "from torch.utils.data import DataLoader, TensorDataset\n",
    "from sklearn.model_selection import train_test_split\n",
    "from sklearn.metrics import accuracy_score, precision_recall_fscore_support\n",
    "import numpy as np\n",
    "import pandas as pd\n",
    "import matplotlib.pyplot as plt\n",
    "import time\n",
    "import random\n",
    "import os\n",
    "import data_process as data_process\n",
    "import cnn_plus_lstm"
   ]
  },
  {
   "cell_type": "code",
   "execution_count": null,
   "metadata": {},
   "outputs": [],
   "source": [
    "device = cnn_plus_lstm.device\n",
    "\n",
    "pochs = 100\n",
    "batch_size = 64\n",
    "in_channels = 1\n",
    "n_classes = 2\n",
    "n_layers = 2\n",
    "fc = 128\n",
    "lr = 0.001\n",
    "weight_decay = 0.0\n",
    "\n",
    "model = cnn_plus_lstm.CNN_LSTM()\n",
    "criterion = cnn_plus_lstm.loss\n",
    "optimizer = cnn_plus_lstm.optimizer"
   ]
  }
 ],
 "metadata": {
  "kernelspec": {
   "display_name": "UWB",
   "language": "python",
   "name": "python3"
  },
  "language_info": {
   "name": "python",
   "version": "3.11.5"
  }
 },
 "nbformat": 4,
 "nbformat_minor": 2
}
